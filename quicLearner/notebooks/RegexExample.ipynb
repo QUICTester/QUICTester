{
  "cells": [
    {
      "metadata": {
        "trusted": true
      },
      "id": "charming-absence",
      "cell_type": "code",
      "source": "from aalpy.base import SUL\nimport re\n\n# Create a system under learning that can learn any regular experssion\n\nclass RegexSUL(SUL):\n    \"\"\"\n    An example implementation of a system under learning that can be used to learn any regex expression.\n    Note that the $ is added to the expression as in this SUL only exact matches are learned.\n    \"\"\"\n    def __init__(self, regex: str):\n        super().__init__()\n        self.regex = regex if regex[-1] == '$' else regex + '$'\n        self.string = \"\"\n\n    def pre(self):\n        self.string = \"\"\n        pass\n\n    def post(self):\n        self.string = \"\"\n        pass\n\n    def step(self, letter):\n        \"\"\"\n\n        Args:\n\n            letter: single element of the input alphabet\n\n        Returns:\n\n            Whether the current string (previous string + letter) is accepted\n\n        \"\"\"\n        if letter is not None:\n            self.string += str(letter)\n        return True if re.match(self.regex, self.string) else False",
      "execution_count": 1,
      "outputs": []
    },
    {
      "metadata": {
        "trusted": true
      },
      "id": "norman-bolivia",
      "cell_type": "code",
      "source": "# define a regex and its alphabet\nregex = '((0|1)*0)*1(11)*(0(0|1)*1)*0(00)*(1(0|1)*)*'\nalphabet = [0,1]",
      "execution_count": 2,
      "outputs": []
    },
    {
      "metadata": {
        "trusted": true
      },
      "id": "industrial-sociology",
      "cell_type": "code",
      "source": "# pass the regex to the RegexSUL\n\nregex_sul = RegexSUL(regex)\n\nfrom aalpy.oracles import StatePrefixEqOracle\n\n# create the oracle\n\neq_oracle = StatePrefixEqOracle(alphabet, regex_sul, walks_per_state=15,\n                                walk_len=10)\n\nfrom aalpy.learning_algs import run_Lstar\n\n# start learning with no counterexample processing\n\nlearned_regex = run_Lstar(alphabet, regex_sul, eq_oracle, automaton_type='dfa', cex_processing=None)\n\nprint(learned_regex)",
      "execution_count": 3,
      "outputs": [
        {
          "output_type": "stream",
          "text": "Hypothesis 1: 1 states.\nHypothesis 2: 4 states.\nHypothesis 3: 5 states.\n-----------------------------------\nLearning Finished.\nLearning Rounds:  3\nNumber of states: 5\nTime (in seconds)\n  Total                : 0.02\n  Learning algorithm   : 0.0\n  Conformance checking : 0.02\nLearning Algorithm\n # Membership Queries  : 37\n # MQ Saved by Caching : 37\n # Steps               : 271\nEquivalence Query\n # Membership Queries  : 75\n # Steps               : 935\n-----------------------------------\ndigraph learnedModel {\ns0 [label=s0];\ns1 [label=s1];\ns2 [label=s2, shape=doublecircle];\ns3 [label=s3, shape=doublecircle];\ns4 [label=s4];\ns0 -> s0  [label=0];\ns0 -> s1  [label=1];\ns1 -> s2  [label=0];\ns1 -> s0  [label=1];\ns2 -> s4  [label=0];\ns2 -> s3  [label=1];\ns3 -> s3  [label=0];\ns3 -> s3  [label=1];\ns4 -> s2  [label=0];\ns4 -> s4  [label=1];\n__start0 [label=\"\", shape=none];\n__start0 -> s0  [label=\"\"];\n}\n\n",
          "name": "stdout"
        }
      ]
    }
  ],
  "metadata": {
    "kernelspec": {
      "name": "python3",
      "display_name": "Python 3",
      "language": "python"
    },
    "language_info": {
      "name": "python",
      "version": "3.7.10",
      "mimetype": "text/x-python",
      "codemirror_mode": {
        "name": "ipython",
        "version": 3
      },
      "pygments_lexer": "ipython3",
      "nbconvert_exporter": "python",
      "file_extension": ".py"
    }
  },
  "nbformat": 4,
  "nbformat_minor": 5
}