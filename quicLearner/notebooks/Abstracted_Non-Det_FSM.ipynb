{
  "cells": [
    {
      "metadata": {
        "trusted": true
      },
      "cell_type": "code",
      "source": "#Example from paper P'Learning Abstracted Non-deterministic Finite State Machines'.\n#    https://link.springer.com/chapter/10.1007/978-3-030-64881-7_4",
      "execution_count": 1,
      "outputs": []
    },
    {
      "metadata": {
        "trusted": true
      },
      "cell_type": "code",
      "source": "# Import statemets\n\nimport random\n\nfrom aalpy.base import SUL\nfrom aalpy.oracles import RandomWalkEqOracle\nfrom aalpy.learning_algs import run_abstracted_Lstar_ONFSM\nfrom aalpy.SULs import MealySUL\nfrom aalpy.utils import load_automaton_from_file",
      "execution_count": 2,
      "outputs": []
    },
    {
      "metadata": {
        "trusted": true
      },
      "cell_type": "code",
      "source": "# Mapper/SUL used for abstracted learning \n\nclass Multi_Client_MQTT_Mapper(SUL):\n    def __init__(self):\n        super().__init__()\n\n        five_clients_mqtt_mealy = load_automaton_from_file('../DotModels/five_clients_mqtt_abstracted_onfsm.dot',\n                                                           automaton_type='mealy')\n        self.five_client_mqtt = MealySUL(five_clients_mqtt_mealy)\n        self.connected_clients = set()\n        self.subscribed_clients = set()\n\n        self.clients = ('c0', 'c1', 'c2', 'c3', 'c4')\n\n    def get_input_alphabet(self):\n        return ['connect', 'disconnect', 'subscribe', 'unsubscribe', 'publish']\n\n    def pre(self):\n        self.five_client_mqtt.pre()\n\n    def post(self):\n        self.five_client_mqtt.post()\n        self.connected_clients = set()\n        self.subscribed_clients = set()\n\n    def step(self, letter):\n        client = random.choice(self.clients)\n        inp = client + '_' + letter\n        concrete_output = self.five_client_mqtt.step(inp)\n        all_out = ''\n\n        if letter == 'connect':\n            if client not in self.connected_clients:\n                self.connected_clients.add(client)\n            elif client in self.connected_clients:\n                self.connected_clients.remove(client)\n                if client in self.subscribed_clients:\n                    self.subscribed_clients.remove(client)\n                if len(self.subscribed_clients) == 0:\n                    all_out = '_UNSUB_ALL'\n\n        elif letter == 'subscribe' and client in self.connected_clients:\n            self.subscribed_clients.add(client)\n        elif letter == 'disconnect' and client in self.connected_clients:\n            self.connected_clients.remove(client)\n            if client in self.subscribed_clients:\n                self.subscribed_clients.remove(client)\n            if len(self.subscribed_clients) == 0:\n                all_out = '_UNSUB_ALL'\n        elif letter == 'unsubscribe' and client in self.connected_clients:\n            if client in self.subscribed_clients:\n                self.subscribed_clients.remove(client)\n            if len(self.subscribed_clients) == 0:\n                all_out = '_ALL'\n\n        concrete_outputs = concrete_output.split('__')\n        abstract_outputs = set([e[3:] for e in concrete_outputs])\n        if 'Empty' in abstract_outputs:\n            abstract_outputs.remove('Empty')\n        if abstract_outputs == {'CONCLOSED'}:\n            if len(self.connected_clients) == 0:\n                all_out = '_ALL'\n            return 'CONCLOSED' + all_out\n        else:\n            if 'CONCLOSED' in abstract_outputs:\n                abstract_outputs.remove('CONCLOSED')\n            abstract_outputs = sorted(list(abstract_outputs))\n            output = '_'.join(abstract_outputs)\n            return '_'.join(set(output.split('_'))) + all_out",
      "execution_count": 5,
      "outputs": []
    },
    {
      "metadata": {
        "trusted": true
      },
      "cell_type": "code",
      "source": "# instantiate SUL and input alphabet\nsul = Multi_Client_MQTT_Mapper()\nalphabet = sul.get_input_alphabet()\n\n# create eq. oracle\neq_oracle = RandomWalkEqOracle(alphabet, sul, num_steps=5000, reset_prob=0.09, reset_after_cex=True)\n\n# define mapping from concrete outputs to abstract outputs\nabstraction_mapping = {\n    'CONCLOSED': 'CONCLOSED',\n    'CONCLOSED_UNSUB_ALL': 'CONCLOSED',\n    'CONCLOSED_ALL': 'CONCLOSED',\n    'UNSUBACK' : 'UNSUBACK',\n    'UNSUBACK_ALL': 'UNSUBACK'\n}",
      "execution_count": 6,
      "outputs": []
    },
    {
      "metadata": {
        "trusted": true
      },
      "cell_type": "code",
      "source": "# Start learning process\n\nlearned_abstracter_onfsm = run_abstracted_Lstar_ONFSM(alphabet, sul, eq_oracle, abstraction_mapping=abstraction_mapping,\n                                           n_sampling=200, print_level=2)",
      "execution_count": 8,
      "outputs": [
        {
          "output_type": "stream",
          "text": "Hypothesis 1 has 3 states.\n-----------------------------------\nLearning Finished.\nLearning Rounds:  1\nNumber of states: 3\nTime (in seconds)\n  Total                : 13.62\n  Learning algorithm   : 13.62\n  Conformance checking : 0.0\nLearning Algorithm\n # Membership Queries  : 232995\n # Steps               : 985895\nEquivalence Query\n # Membership Queries  : 418\n # Steps               : 5000\n-----------------------------------\n",
          "name": "stdout"
        }
      ]
    },
    {
      "metadata": {
        "trusted": true
      },
      "cell_type": "code",
      "source": "# Print the automaton (note that the original, non-abstracted automataon has 273 states)\nprint(learned_abstracter_onfsm)",
      "execution_count": 9,
      "outputs": [
        {
          "output_type": "stream",
          "text": "digraph learnedModel {\ns0 [label=s0];\ns1 [label=s1];\ns2 [label=s2];\ns0 -> s1  [label=\"connect/CONNACK\"];\ns0 -> s0  [label=\"disconnect/CONCLOSED_ALL\"];\ns0 -> s0  [label=\"subscribe/CONCLOSED_ALL\"];\ns0 -> s0  [label=\"unsubscribe/CONCLOSED_ALL\"];\ns0 -> s0  [label=\"publish/CONCLOSED_ALL\"];\ns1 -> s0  [label=\"connect/CONCLOSED_ALL\"];\ns1 -> s1  [label=\"connect/CONNACK\"];\ns1 -> s1  [label=\"connect/CONCLOSED_UNSUB_ALL\"];\ns1 -> s0  [label=\"disconnect/CONCLOSED_ALL\"];\ns1 -> s1  [label=\"disconnect/CONCLOSED\"];\ns1 -> s1  [label=\"disconnect/CONCLOSED_UNSUB_ALL\"];\ns1 -> s2  [label=\"subscribe/SUBACK\"];\ns1 -> s1  [label=\"subscribe/CONCLOSED\"];\ns1 -> s1  [label=\"unsubscribe/UNSUBACK_ALL\"];\ns1 -> s1  [label=\"unsubscribe/CONCLOSED\"];\ns1 -> s1  [label=\"publish/PUBACK\"];\ns1 -> s1  [label=\"publish/CONCLOSED\"];\ns2 -> s0  [label=\"connect/CONCLOSED_ALL\"];\ns2 -> s2  [label=\"connect/CONNACK\"];\ns2 -> s2  [label=\"connect/CONCLOSED\"];\ns2 -> s1  [label=\"connect/CONCLOSED_UNSUB_ALL\"];\ns2 -> s0  [label=\"disconnect/CONCLOSED_ALL\"];\ns2 -> s2  [label=\"disconnect/CONCLOSED\"];\ns2 -> s1  [label=\"disconnect/CONCLOSED_UNSUB_ALL\"];\ns2 -> s2  [label=\"subscribe/SUBACK\"];\ns2 -> s2  [label=\"subscribe/CONCLOSED\"];\ns2 -> s1  [label=\"unsubscribe/UNSUBACK_ALL\"];\ns2 -> s2  [label=\"unsubscribe/CONCLOSED\"];\ns2 -> s2  [label=\"unsubscribe/UNSUBACK\"];\ns2 -> s2  [label=\"publish/CONCLOSED\"];\ns2 -> s2  [label=\"publish/PUBACK_PUBLISH\"];\n__start0 [label=\"\", shape=none];\n__start0 -> s0  [label=\"\"];\n}\n\n",
          "name": "stdout"
        }
      ]
    }
  ],
  "metadata": {
    "kernelspec": {
      "name": "python3",
      "display_name": "Python 3",
      "language": "python"
    },
    "language_info": {
      "name": "python",
      "version": "3.7.10",
      "mimetype": "text/x-python",
      "codemirror_mode": {
        "name": "ipython",
        "version": 3
      },
      "pygments_lexer": "ipython3",
      "nbconvert_exporter": "python",
      "file_extension": ".py"
    }
  },
  "nbformat": 4,
  "nbformat_minor": 5
}