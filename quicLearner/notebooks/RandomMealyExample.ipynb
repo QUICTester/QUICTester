{
  "cells": [
    {
      "metadata": {
        "trusted": true
      },
      "id": "nonprofit-volume",
      "cell_type": "code",
      "source": "from random import seed\n\n# By defining the radnom seed, experiment is repr\n\nseed(5)",
      "execution_count": 1,
      "outputs": []
    },
    {
      "metadata": {
        "trusted": true
      },
      "id": "loose-channels",
      "cell_type": "code",
      "source": "from aalpy.utils import generate_random_mealy_machine\n\n# define parameters and create random Mealy machine based on them\n\nnumber_of_states = 10\nalphabet_size = 2\noutput_size = 3\n\n\nalphabet = [*range(0, alphabet_size)]\n\nrandom_mealy = generate_random_mealy_machine(number_of_states, alphabet, output_alphabet=list(range(output_size)))",
      "execution_count": 2,
      "outputs": []
    },
    {
      "metadata": {
        "trusted": true
      },
      "id": "technological-massage",
      "cell_type": "code",
      "source": "from aalpy.SULs import MealySUL\n\n# wrap the randomly generated Mealy machine in SUL\n\nsul_mealy = MealySUL(random_mealy)",
      "execution_count": 3,
      "outputs": []
    },
    {
      "metadata": {
        "trusted": true
      },
      "id": "colonial-dairy",
      "cell_type": "code",
      "source": "from aalpy.oracles import StatePrefixEqOracle\n\n# create the equivelance oracle\n\nstate_origin_eq_oracle = StatePrefixEqOracle(alphabet, sul_mealy, walks_per_state=10, walk_len=15)",
      "execution_count": 4,
      "outputs": []
    },
    {
      "metadata": {
        "trusted": true
      },
      "id": "central-attachment",
      "cell_type": "code",
      "source": "from aalpy.learning_algs import run_Lstar\n\n# start learning with Shabaz-Groz counter-example processing\n\nlearned_mealy = run_Lstar(alphabet, sul_mealy, state_origin_eq_oracle, automaton_type='mealy',\n                          cex_processing='longest_prefix')\n\n",
      "execution_count": 5,
      "outputs": [
        {
          "output_type": "stream",
          "text": "Hypothesis 1: 6 states.\nHypothesis 2: 10 states.\n-----------------------------------\nLearning Finished.\nLearning Rounds:  2\nNumber of states: 10\nTime (in seconds)\n  Total                : 0.02\n  Learning algorithm   : 0.0\n  Conformance checking : 0.02\nLearning Algorithm\n # Membership Queries  : 57\n # MQ Saved by Caching : 27\n # Steps               : 276\nEquivalence Query\n # Membership Queries  : 100\n # Steps               : 1699\n-----------------------------------\n",
          "name": "stdout"
        }
      ]
    },
    {
      "metadata": {
        "trusted": true
      },
      "id": "above-circuit",
      "cell_type": "code",
      "source": "# print the DOT represetnation of the learned Mealy machine\nprint(learned_mealy)",
      "execution_count": 6,
      "outputs": [
        {
          "output_type": "stream",
          "text": "digraph learnedModel {\ns0 [label=s0];\ns1 [label=s1];\ns2 [label=s2];\ns3 [label=s3];\ns4 [label=s4];\ns5 [label=s5];\ns6 [label=s6];\ns7 [label=s7];\ns8 [label=s8];\ns9 [label=s9];\ns0 -> s2  [label=\"0/1\"];\ns0 -> s1  [label=\"1/2\"];\ns1 -> s4  [label=\"0/1\"];\ns1 -> s3  [label=\"1/0\"];\ns2 -> s4  [label=\"0/0\"];\ns2 -> s9  [label=\"1/1\"];\ns3 -> s5  [label=\"0/2\"];\ns3 -> s4  [label=\"1/0\"];\ns4 -> s8  [label=\"0/0\"];\ns4 -> s7  [label=\"1/2\"];\ns5 -> s6  [label=\"0/0\"];\ns5 -> s8  [label=\"1/0\"];\ns6 -> s9  [label=\"0/0\"];\ns6 -> s0  [label=\"1/0\"];\ns7 -> s7  [label=\"0/0\"];\ns7 -> s5  [label=\"1/0\"];\ns8 -> s2  [label=\"0/2\"];\ns8 -> s8  [label=\"1/0\"];\ns9 -> s0  [label=\"0/0\"];\ns9 -> s5  [label=\"1/1\"];\n__start0 [label=\"\", shape=none];\n__start0 -> s0  [label=\"\"];\n}\n\n",
          "name": "stdout"
        }
      ]
    }
  ],
  "metadata": {
    "kernelspec": {
      "name": "python3",
      "display_name": "Python 3",
      "language": "python"
    },
    "language_info": {
      "name": "python",
      "version": "3.7.10",
      "mimetype": "text/x-python",
      "codemirror_mode": {
        "name": "ipython",
        "version": 3
      },
      "pygments_lexer": "ipython3",
      "nbconvert_exporter": "python",
      "file_extension": ".py"
    }
  },
  "nbformat": 4,
  "nbformat_minor": 5
}