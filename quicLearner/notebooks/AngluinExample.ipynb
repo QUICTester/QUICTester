{
  "cells": [
    {
      "metadata": {
        "trusted": true
      },
      "id": "ordinary-diving",
      "cell_type": "code",
      "source": "from aalpy.utils import get_Angluin_dfa\n\n# Import the DFA presented in Angluin's seminal paper\ndfa = get_Angluin_dfa()",
      "execution_count": 1,
      "outputs": []
    },
    {
      "metadata": {
        "trusted": true
      },
      "id": "divine-ceramic",
      "cell_type": "code",
      "source": "# Get its input alphabet\nalphabet = dfa.get_input_alphabet()",
      "execution_count": 2,
      "outputs": []
    },
    {
      "metadata": {
        "trusted": true
      },
      "id": "upper-ladder",
      "cell_type": "code",
      "source": "# Create a SUL instance weapping the Anguin's automaton\nfrom aalpy.SULs import DfaSUL\nsul = DfaSUL(dfa)",
      "execution_count": 3,
      "outputs": []
    },
    {
      "metadata": {
        "trusted": true
      },
      "id": "alive-living",
      "cell_type": "code",
      "source": "# create a random walk equivelance oracle that will perform up to 500 steps every learning round\nfrom aalpy.oracles import RandomWalkEqOracle\n\neq_oracle = RandomWalkEqOracle(alphabet, sul, 500, reset_after_cex=True)\n\n",
      "execution_count": 4,
      "outputs": []
    },
    {
      "metadata": {
        "trusted": true
      },
      "id": "several-cursor",
      "cell_type": "code",
      "source": "from aalpy.learning_algs import run_Lstar\n\n# start the L* and print the whole process in detail\nlearned_dfa = run_Lstar(alphabet, sul, eq_oracle, automaton_type='dfa',\n                        cache_and_non_det_check=True, cex_processing=None, print_level=3)",
      "execution_count": 5,
      "outputs": [
        {
          "output_type": "stream",
          "text": "Hypothesis 1: 2 states.\n------------------------\nPrefixes / E set |()    \n------------------------\n()               |True  \n------------------------\n('a',)           |False \n========================\n------------------------\n('b',)           |False \n------------------------\n('a', 'a')       |True  \n------------------------\n('a', 'b')       |False \n------------------------\nCounterexample ['a', 'a', 'b', 'b']\nHypothesis 2: 4 states.\n--------------------------------------------\nPrefixes / E set     |()    |('a',) |('b',) \n--------------------------------------------\n()                   |True  |False  |False  \n--------------------------------------------\n('a',)               |False |True   |False  \n--------------------------------------------\n('a', 'a', 'b')      |False |False  |True   \n--------------------------------------------\n('a', 'b')           |False |False  |False  \n============================================\n--------------------------------------------\n('b',)               |False |False  |True   \n--------------------------------------------\n('a', 'a')           |True  |False  |False  \n--------------------------------------------\n('a', 'a', 'b', 'a') |False |False  |False  \n--------------------------------------------\n('a', 'a', 'b', 'b') |True  |False  |False  \n--------------------------------------------\n('a', 'b', 'a')      |False |False  |True   \n--------------------------------------------\n('a', 'b', 'b')      |False |True   |False  \n--------------------------------------------\n-----------------------------------\nLearning Finished.\nLearning Rounds:  2\nNumber of states: 4\nTime (in seconds)\n  Total                : 0.01\n  Learning algorithm   : 0.01\n  Conformance checking : 0.0\nLearning Algorithm\n # Membership Queries  : 24\n # MQ Saved by Caching : 14\n # Steps               : 91\nEquivalence Query\n # Membership Queries  : 57\n # Steps               : 504\n-----------------------------------\n",
          "name": "stdout"
        }
      ]
    },
    {
      "metadata": {
        "trusted": true
      },
      "id": "preceding-wednesday",
      "cell_type": "code",
      "source": "# print the DOT representation of the final automaton\nprint(learned_dfa)",
      "execution_count": 6,
      "outputs": [
        {
          "output_type": "stream",
          "text": "digraph learnedModel {\ns0 [label=s0, shape=doublecircle];\ns1 [label=s1];\ns2 [label=s2];\ns3 [label=s3];\ns0 -> s1  [label=a];\ns0 -> s2  [label=b];\ns1 -> s0  [label=a];\ns1 -> s3  [label=b];\ns2 -> s3  [label=a];\ns2 -> s0  [label=b];\ns3 -> s2  [label=a];\ns3 -> s1  [label=b];\n__start0 [label=\"\", shape=none];\n__start0 -> s0  [label=\"\"];\n}\n\n",
          "name": "stdout"
        }
      ]
    }
  ],
  "metadata": {
    "kernelspec": {
      "name": "python3",
      "display_name": "Python 3",
      "language": "python"
    },
    "language_info": {
      "name": "python",
      "version": "3.7.10",
      "mimetype": "text/x-python",
      "codemirror_mode": {
        "name": "ipython",
        "version": 3
      },
      "pygments_lexer": "ipython3",
      "nbconvert_exporter": "python",
      "file_extension": ".py"
    }
  },
  "nbformat": 4,
  "nbformat_minor": 5
}