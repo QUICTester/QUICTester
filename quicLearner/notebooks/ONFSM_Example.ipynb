{
  "cells": [
    {
      "metadata": {
        "trusted": true
      },
      "id": "strange-memory",
      "cell_type": "code",
      "source": "#Learning a ONFSM presented in 'Learning Finite State Models of Observable Nondeterministic Systems in a Testing Context'",
      "execution_count": 13,
      "outputs": []
    },
    {
      "metadata": {
        "trusted": true
      },
      "id": "prompt-sample",
      "cell_type": "code",
      "source": "from aalpy.utils import get_benchmark_ONFSM\n\n# get the automaton \n\nonfsm = get_benchmark_ONFSM()\n\n# get its alphabet\n\nalphabet = onfsm.get_input_alphabet()",
      "execution_count": 18,
      "outputs": []
    },
    {
      "metadata": {
        "trusted": true
      },
      "id": "threaded-mongolia",
      "cell_type": "code",
      "source": "from aalpy.SULs import OnfsmSUL\n\n# warp the benchmark in the SUL\n\nsul = OnfsmSUL(onfsm)",
      "execution_count": 19,
      "outputs": []
    },
    {
      "metadata": {
        "trusted": true
      },
      "id": "brown-generic",
      "cell_type": "code",
      "source": "from aalpy.oracles import RandomWalkEqOracle\n\n# define the eq. oracle\n\neq_oracle = RandomWalkEqOracle(alphabet, sul, num_steps=5000, reset_prob=0.09, reset_after_cex=True)",
      "execution_count": 20,
      "outputs": []
    },
    {
      "metadata": {
        "trusted": true
      },
      "id": "foster-background",
      "cell_type": "code",
      "source": "from aalpy.learning_algs import run_Lstar_ONFSM\n\n# start learning and print detailed output\n\nlearned_onfsm = run_Lstar_ONFSM(alphabet, sul, eq_oracle, n_sampling=200, print_level=2)\n",
      "execution_count": 21,
      "outputs": [
        {
          "output_type": "stream",
          "text": "Starting learning with an all-weather assumption.\nSee run_Lstar_ONFSM documentation for more details about possible non-convergence.\nHypothesis 1: 3 states.\nHypothesis 2: 4 states.\n-----------------------------------\nLearning Finished.\nLearning Rounds:  2\nNumber of states: 4\nTime (in seconds)\n  Total                : 0.56\n  Learning algorithm   : 0.52\n  Conformance checking : 0.04\nLearning Algorithm\n # Membership Queries  : 22527\n # Steps               : 114735\nEquivalence Query\n # Membership Queries  : 432\n # Steps               : 5027\n-----------------------------------\n",
          "name": "stdout"
        }
      ]
    },
    {
      "metadata": {
        "trusted": true
      },
      "id": "after-vacation",
      "cell_type": "code",
      "source": "# print the result\n\nprint(learned_onfsm)",
      "execution_count": 22,
      "outputs": [
        {
          "output_type": "stream",
          "text": "digraph learnedModel {\ns0 [label=s0];\ns1 [label=s1];\ns2 [label=s2];\ns3 [label=s3];\ns0 -> s1  [label=\"a/0\"];\ns0 -> s2  [label=\"b/0\"];\ns0 -> s0  [label=\"b/2\"];\ns1 -> s0  [label=\"a/2\"];\ns1 -> s1  [label=\"b/3\"];\ns2 -> s3  [label=\"a/2\"];\ns2 -> s2  [label=\"b/0\"];\ns2 -> s2  [label=\"b/3\"];\ns3 -> s1  [label=\"a/2\"];\ns3 -> s3  [label=\"b/3\"];\n__start0 [label=\"\", shape=none];\n__start0 -> s0  [label=\"\"];\n}\n\n",
          "name": "stdout"
        }
      ]
    },
    {
      "metadata": {
        "trusted": true
      },
      "cell_type": "code",
      "source": "",
      "execution_count": null,
      "outputs": []
    }
  ],
  "metadata": {
    "kernelspec": {
      "name": "python3",
      "display_name": "Python 3",
      "language": "python"
    },
    "language_info": {
      "name": "python",
      "version": "3.7.10",
      "mimetype": "text/x-python",
      "codemirror_mode": {
        "name": "ipython",
        "version": 3
      },
      "pygments_lexer": "ipython3",
      "nbconvert_exporter": "python",
      "file_extension": ".py"
    }
  },
  "nbformat": 4,
  "nbformat_minor": 5
}