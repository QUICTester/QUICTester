{
  "cells": [
    {
      "metadata": {
        "trusted": true
      },
      "cell_type": "code",
      "source": "# This notebook contains example on how to run examples presented in 'Active Model Learning of Stochastic Reactive\nSystems'",
      "execution_count": null,
      "outputs": []
    },
    {
      "metadata": {
        "trusted": true
      },
      "cell_type": "code",
      "source": "# Import Statements\n\nfrom aalpy.SULs import StochasticMealySUL\nfrom aalpy.oracles import RandomWalkEqOracle, RandomWordEqOracle\nfrom aalpy.learning_algs import run_stochastic_Lstar\nfrom aalpy.utils import load_automaton_from_file\nfrom aalpy.automata import StochasticMealyMachine\nfrom aalpy.utils import smm_to_mdp_conversion, mdp_2_prism_format",
      "execution_count": 21,
      "outputs": []
    },
    {
      "metadata": {
        "trusted": true
      },
      "cell_type": "code",
      "source": "# Simply change parameters here and see how it affect the leraning process\n# example and paremeters\nexample = 'first_grid' # can also be 'second_grid', 'slot_machine', 'mqtt', 'tcp'\nautomaton_type = 'smm' # to learn either mdp (Markov Decision Process) or smm (Stochastic Mealy Machine)\nmin_rounds = 20\nmax_rounds = 250\nstrategy = 'normal' # row bisimilarity metric\ncex_processing = 'longest_prefix' # counterexample processsing strategy\nsamples_cex_strategy = 'bfs' # search for counterexample in the PTA ",
      "execution_count": 22,
      "outputs": []
    },
    {
      "metadata": {
        "trusted": true
      },
      "cell_type": "code",
      "source": "# load the example that we want to learn as MDP\nmdp = load_automaton_from_file(f'../DotModels/MDPs/{example}.dot', automaton_type='mdp')\n# get its input alphabet\ninput_alphabet = mdp.get_input_alphabet()\n\n# create a SUL for that system\nsul = StochasticMealySUL(mdp)\n\n# define an eq. oracle\neq_oracle = RandomWalkEqOracle(input_alphabet, sul=sul, num_steps=200, reset_prob=0.25,\n                                           reset_after_cex=True)\neq_oracle = UnseenOutputRandomWordEqOracle(input_alphabet, sul, num_walks=150, min_walk_len=5, max_walk_len=15,\n                                           reset_after_cex=True)",
      "execution_count": 23,
      "outputs": []
    },
    {
      "metadata": {
        "trusted": true
      },
      "cell_type": "code",
      "source": "learned_stochastic_model = run_stochastic_Lstar(input_alphabet=input_alphabet, eq_oracle=eq_oracle, sul=sul,\n                                       min_rounds=min_rounds, max_rounds=max_rounds,\n                                       automaton_type=automaton_type, strategy=strategy, cex_processing=cex_processing,\n                                       samples_cex_strategy=samples_cex_strategy, target_unambiguity=0.99)",
      "execution_count": 24,
      "outputs": [
        {
          "output_type": "stream",
          "text": "Hypothesis: 1: 1 states.\nHypothesis: 2: 2 states.\nHypothesis: 3: 5 states.\nHypothesis: 4: 7 states.\nHypothesis: 5: 9 states.\nUnambiguous rows: 71.74%; 33 out of 46\nHypothesis: 6: 10 states.\nHypothesis: 7: 12 states.\nHypothesis: 8: 15 states.\nHypothesis: 9: 18 states.\nHypothesis: 10: 19 states.\nUnambiguous rows: 72.73%; 88 out of 121\nHypothesis: 11: 19 states.\nHypothesis: 12: 19 states.\nHypothesis: 13: 19 states.\nHypothesis: 14: 19 states.\nHypothesis: 15: 19 states.\nUnambiguous rows: 88.43%; 107 out of 121\nHypothesis: 16: 19 states.\nHypothesis: 17: 19 states.\nHypothesis: 18: 19 states.\nHypothesis: 19: 19 states.\nHypothesis: 20: 19 states.\nUnambiguous rows: 95.04%; 115 out of 121\nHypothesis: 21: 19 states.\nHypothesis: 22: 19 states.\nHypothesis: 23: 19 states.\nHypothesis: 24: 19 states.\nHypothesis: 25: 19 states.\nUnambiguous rows: 97.52%; 118 out of 121\nHypothesis: 26: 19 states.\nHypothesis: 27: 19 states.\n-----------------------------------\nLearning Finished.\nLearning Rounds:  27\nNumber of states: 19\nTime (in seconds)\n  Total                : 4.58\n  Learning algorithm   : 4.52\n  Conformance checking : 0.06\nLearning Algorithm\n # Membership Queries  : 22516\n # Steps               : 131478\nEquivalence Query\n # Membership Queries  : 1\n # Steps               : 3\n-----------------------------------\n",
          "name": "stdout"
        }
      ]
    },
    {
      "metadata": {
        "trusted": true
      },
      "cell_type": "code",
      "source": "# If we have learned a Stochastic Mealy Machine, transform it in the equivalent MDP\nif isinstance(learned_stochastic_model, StochasticMealyMachine):\n    learned_stochastic_model = smm_to_mdp_conversion(learned_stochastic_model)",
      "execution_count": 25,
      "outputs": []
    },
    {
      "metadata": {
        "trusted": true
      },
      "cell_type": "code",
      "source": "# Translate MDP into PRISM format that can be used for model checking\nprism_repr = mdp_2_prism_format(learned_stochastic_model, f'learned_model_{example}')\n\nprint(prism_repr)",
      "execution_count": 26,
      "outputs": [
        {
          "output_type": "stream",
          "text": "mdp\nmodule learned_model_first_grid\nloc : [0..36] init 0;\n[East] loc=0 -> \n 1.0 : (loc'=3);\n[North] loc=0 -> \n 1.0 : (loc'=2);\n[South] loc=0 -> \n 1.0 : (loc'=2);\n[West] loc=0 -> \n 1.0 : (loc'=2);\n[East] loc=1 -> \n 1.0 : (loc'=3);\n[North] loc=1 -> \n 1.0 : (loc'=2);\n[South] loc=1 -> \n 1.0 : (loc'=2);\n[West] loc=1 -> \n 1.0 : (loc'=2);\n[East] loc=2 -> \n 1.0 : (loc'=3);\n[North] loc=2 -> \n 1.0 : (loc'=2);\n[South] loc=2 -> \n 1.0 : (loc'=2);\n[West] loc=2 -> \n 1.0 : (loc'=2);\n[East] loc=3 -> \n 1.0 : (loc'=5);\n[North] loc=3 -> \n 1.0 : (loc'=4);\n[South] loc=3 -> \n 1.0 : (loc'=4);\n[West] loc=3 -> \n 1.0 : (loc'=1);\n[East] loc=4 -> \n 1.0 : (loc'=5);\n[North] loc=4 -> \n 1.0 : (loc'=4);\n[South] loc=4 -> \n 1.0 : (loc'=4);\n[West] loc=4 -> \n 1.0 : (loc'=1);\n[East] loc=5 -> \n 0.5995554636617388 : (loc'=7) + 0.40044453633826116 : (loc'=9);\n[North] loc=5 -> \n 1.0 : (loc'=6);\n[South] loc=5 -> \n 1.0 : (loc'=6);\n[West] loc=5 -> \n 1.0 : (loc'=3);\n[East] loc=6 -> \n 0.5995554636617388 : (loc'=7) + 0.40044453633826116 : (loc'=9);\n[North] loc=6 -> \n 1.0 : (loc'=6);\n[South] loc=6 -> \n 1.0 : (loc'=6);\n[West] loc=6 -> \n 1.0 : (loc'=3);\n[East] loc=7 -> \n 1.0 : (loc'=8);\n[North] loc=7 -> \n 1.0 : (loc'=8);\n[South] loc=7 -> \n 1.0 : (loc'=9);\n[West] loc=7 -> \n 1.0 : (loc'=5);\n[East] loc=8 -> \n 1.0 : (loc'=8);\n[North] loc=8 -> \n 1.0 : (loc'=8);\n[South] loc=8 -> \n 1.0 : (loc'=9);\n[West] loc=8 -> \n 1.0 : (loc'=5);\n[East] loc=9 -> \n 0.6279620853080569 : (loc'=32) + 0.37203791469194314 : (loc'=26);\n[North] loc=9 -> \n 0.5089285714285714 : (loc'=7) + 0.49107142857142855 : (loc'=5);\n[South] loc=9 -> \n 1.0 : (loc'=11);\n[West] loc=9 -> \n 1.0 : (loc'=10);\n[East] loc=10 -> \n 0.6279620853080569 : (loc'=32) + 0.37203791469194314 : (loc'=26);\n[North] loc=10 -> \n 0.5089285714285714 : (loc'=7) + 0.49107142857142855 : (loc'=5);\n[South] loc=10 -> \n 1.0 : (loc'=11);\n[West] loc=10 -> \n 1.0 : (loc'=10);\n[East] loc=11 -> \n 0.19294117647058823 : (loc'=32) + 0.8070588235294117 : (loc'=26);\n[North] loc=11 -> \n 1.0 : (loc'=9);\n[South] loc=11 -> \n 0.3713670613562971 : (loc'=19) + 0.628632938643703 : (loc'=22);\n[West] loc=11 -> \n 0.7993691957245488 : (loc'=12) + 0.2006308042754512 : (loc'=19);\n[East] loc=12 -> \n 1.0 : (loc'=11);\n[North] loc=12 -> \n 1.0 : (loc'=13);\n[South] loc=12 -> \n 1.0 : (loc'=19);\n[West] loc=12 -> \n 0.6083883129123469 : (loc'=14) + 0.39161168708765315 : (loc'=16);\n[East] loc=13 -> \n 1.0 : (loc'=11);\n[North] loc=13 -> \n 1.0 : (loc'=13);\n[South] loc=13 -> \n 1.0 : (loc'=19);\n[West] loc=13 -> \n 0.6083883129123469 : (loc'=14) + 0.39161168708765315 : (loc'=16);\n[East] loc=14 -> \n 0.8354430379746836 : (loc'=12) + 0.16455696202531644 : (loc'=19);\n[North] loc=14 -> \n 1.0 : (loc'=15);\n[South] loc=14 -> \n 0.821078431372549 : (loc'=16) + 0.06372549019607843 : (loc'=19) + 0.11519607843137254 : (loc'=24);\n[West] loc=14 -> \n 0.24579489962018447 : (loc'=24) + 0.7542051003798155 : (loc'=18);\n[East] loc=15 -> \n 0.8354430379746836 : (loc'=12) + 0.16455696202531644 : (loc'=19);\n[North] loc=15 -> \n 1.0 : (loc'=15);\n[South] loc=15 -> \n 0.821078431372549 : (loc'=16) + 0.06372549019607843 : (loc'=19) + 0.11519607843137254 : (loc'=24);\n[West] loc=15 -> \n 0.24579489962018447 : (loc'=24) + 0.7542051003798155 : (loc'=18);\n[East] loc=16 -> \n 1.0 : (loc'=19);\n[North] loc=16 -> \n 0.19704433497536947 : (loc'=18) + 0.541871921182266 : (loc'=14) + 0.26108374384236455 : (loc'=12);\n[South] loc=16 -> \n 0.7495840266222962 : (loc'=21) + 0.12562396006655574 : (loc'=35) + 0.12479201331114809 : (loc'=30);\n[West] loc=16 -> \n 0.6243386243386243 : (loc'=24) + 0.2328042328042328 : (loc'=18) + 0.14285714285714285 : (loc'=35);\n[East] loc=17 -> \n 0.5860655737704918 : (loc'=14) + 0.4139344262295082 : (loc'=16);\n[North] loc=17 -> \n 1.0 : (loc'=17);\n[South] loc=17 -> \n 0.6308724832214765 : (loc'=24) + 0.3691275167785235 : (loc'=16);\n[West] loc=17 -> \n 1.0 : (loc'=17);\n[East] loc=18 -> \n 0.5860655737704918 : (loc'=14) + 0.4139344262295082 : (loc'=16);\n[North] loc=18 -> \n 1.0 : (loc'=17);\n[South] loc=18 -> \n 0.6308724832214765 : (loc'=24) + 0.3691275167785235 : (loc'=16);\n[West] loc=18 -> \n 1.0 : (loc'=17);\n[East] loc=19 -> \n 0.20967741935483872 : (loc'=26) + 0.5913978494623656 : (loc'=22) + 0.1989247311827957 : (loc'=11);\n[North] loc=19 -> \n 0.8131487889273357 : (loc'=12) + 0.06920415224913495 : (loc'=14) + 0.11764705882352941 : (loc'=11);\n[South] loc=19 -> \n 0.6 : (loc'=30) + 0.19777777777777777 : (loc'=21) + 0.20222222222222222 : (loc'=28);\n[West] loc=19 -> \n 0.8009259259259259 : (loc'=16) + 0.09259259259259259 : (loc'=21) + 0.10648148148148148 : (loc'=14);\n[East] loc=20 -> \n 0.4230769230769231 : (loc'=19) + 0.5769230769230769 : (loc'=30);\n[North] loc=20 -> \n 0.8014184397163121 : (loc'=16) + 0.1182033096926714 : (loc'=19) + 0.08037825059101655 : (loc'=24);\n[South] loc=20 -> \n 1.0 : (loc'=20);\n[West] loc=20 -> \n 0.7368421052631579 : (loc'=35) + 0.2631578947368421 : (loc'=24);\n[East] loc=21 -> \n 0.4230769230769231 : (loc'=19) + 0.5769230769230769 : (loc'=30);\n[North] loc=21 -> \n 0.8014184397163121 : (loc'=16) + 0.1182033096926714 : (loc'=19) + 0.08037825059101655 : (loc'=24);\n[South] loc=21 -> \n 1.0 : (loc'=20);\n[West] loc=21 -> \n 0.7368421052631579 : (loc'=35) + 0.2631578947368421 : (loc'=24);\n[East] loc=22 -> \n 1.0 : (loc'=23);\n[North] loc=22 -> \n 1.0 : (loc'=11);\n[South] loc=22 -> \n 0.1893939393939394 : (loc'=30) + 0.8106060606060606 : (loc'=28);\n[West] loc=22 -> \n 1.0 : (loc'=19);\n[East] loc=23 -> \n 1.0 : (loc'=23);\n[North] loc=23 -> \n 1.0 : (loc'=11);\n[South] loc=23 -> \n 0.1893939393939394 : (loc'=30) + 0.8106060606060606 : (loc'=28);\n[West] loc=23 -> \n 1.0 : (loc'=19);\n[East] loc=24 -> \n 0.8302752293577982 : (loc'=16) + 0.0963302752293578 : (loc'=14) + 0.07339449541284404 : (loc'=21);\n[North] loc=24 -> \n 0.6976744186046512 : (loc'=18) + 0.3023255813953488 : (loc'=14);\n[South] loc=24 -> \n 0.6759259259259259 : (loc'=35) + 0.32407407407407407 : (loc'=21);\n[West] loc=24 -> \n 1.0 : (loc'=25);\n[East] loc=25 -> \n 0.8302752293577982 : (loc'=16) + 0.0963302752293578 : (loc'=14) + 0.07339449541284404 : (loc'=21);\n[North] loc=25 -> \n 0.6976744186046512 : (loc'=18) + 0.3023255813953488 : (loc'=14);\n[South] loc=25 -> \n 0.6759259259259259 : (loc'=35) + 0.32407407407407407 : (loc'=21);\n[West] loc=25 -> \n 1.0 : (loc'=25);\n[East] loc=26 -> \n 1.0 : (loc'=27);\n[North] loc=26 -> \n 0.36363636363636365 : (loc'=9) + 0.6363636363636364 : (loc'=32);\n[South] loc=26 -> \n 1.0 : (loc'=27);\n[West] loc=26 -> \n 1.0 : (loc'=11);\n[East] loc=27 -> \n 1.0 : (loc'=27);\n[North] loc=27 -> \n 0.36363636363636365 : (loc'=9) + 0.6363636363636364 : (loc'=32);\n[South] loc=27 -> \n 1.0 : (loc'=27);\n[West] loc=27 -> \n 1.0 : (loc'=11);\n[East] loc=28 -> \n 1.0 : (loc'=29);\n[North] loc=28 -> \n 0.5853658536585366 : (loc'=22) + 0.4146341463414634 : (loc'=19);\n[South] loc=28 -> \n 1.0 : (loc'=29);\n[West] loc=28 -> \n 0.36065573770491804 : (loc'=19) + 0.639344262295082 : (loc'=30);\n[East] loc=29 -> \n 1.0 : (loc'=29);\n[North] loc=29 -> \n 0.5853658536585366 : (loc'=22) + 0.4146341463414634 : (loc'=19);\n[South] loc=29 -> \n 1.0 : (loc'=29);\n[West] loc=29 -> \n 0.36065573770491804 : (loc'=19) + 0.639344262295082 : (loc'=30);\n[East] loc=30 -> \n 0.8211382113821138 : (loc'=26) + 0.17886178861788618 : (loc'=22);\n[North] loc=30 -> \n 1.0 : (loc'=19);\n[South] loc=30 -> \n 1.0 : (loc'=31);\n[West] loc=30 -> \n 0.7352941176470589 : (loc'=21) + 0.2647058823529412 : (loc'=16);\n[East] loc=31 -> \n 0.8211382113821138 : (loc'=26) + 0.17886178861788618 : (loc'=22);\n[North] loc=31 -> \n 1.0 : (loc'=19);\n[South] loc=31 -> \n 1.0 : (loc'=31);\n[West] loc=31 -> \n 0.7352941176470589 : (loc'=21) + 0.2647058823529412 : (loc'=16);\n[East] loc=32 -> \n 1.0 : (loc'=33);\n[North] loc=32 -> \n 1.0 : (loc'=33);\n[South] loc=32 -> \n 0.7950819672131147 : (loc'=26) + 0.20491803278688525 : (loc'=11);\n[West] loc=32 -> \n 1.0 : (loc'=9);\n[East] loc=33 -> \n 1.0 : (loc'=33);\n[North] loc=33 -> \n 1.0 : (loc'=33);\n[South] loc=33 -> \n 0.7950819672131147 : (loc'=26) + 0.20491803278688525 : (loc'=11);\n[West] loc=33 -> \n 1.0 : (loc'=9);\n[East] loc=34 -> \n 0.6730769230769231 : (loc'=21) + 0.3269230769230769 : (loc'=16);\n[North] loc=34 -> \n 0.34782608695652173 : (loc'=16) + 0.6521739130434783 : (loc'=24);\n[South] loc=34 -> \n 1.0 : (loc'=34);\n[West] loc=34 -> \n 1.0 : (loc'=34);\n[East] loc=35 -> \n 0.6730769230769231 : (loc'=21) + 0.3269230769230769 : (loc'=16);\n[North] loc=35 -> \n 0.34782608695652173 : (loc'=16) + 0.6521739130434783 : (loc'=24);\n[South] loc=35 -> \n 1.0 : (loc'=34);\n[West] loc=35 -> \n 1.0 : (loc'=34);\nendmodule\nlabel \"_start\" = loc=0;\nlabel \"_\" = loc=0;\nlabel \"concrete\" = loc=1|loc=3|loc=5|loc=9|loc=11|loc=19;\nlabel \"wall\" = loc=2|loc=4|loc=6|loc=8|loc=10|loc=13|loc=15|loc=17|loc=20|loc=23|loc=25|loc=27|loc=29|loc=31|loc=33|loc=34;\nlabel \"mud\" = loc=7|loc=14|loc=22|loc=24|loc=30|loc=32;\nlabel \"grass\" = loc=12|loc=16|loc=26|loc=28|loc=35;\nlabel \"sand\" = loc=18|loc=21;\nlabel \"goal\" = loc=34|loc=35;\n\n",
          "name": "stdout"
        }
      ]
    }
  ],
  "metadata": {
    "kernelspec": {
      "name": "python3",
      "display_name": "Python 3",
      "language": "python"
    },
    "language_info": {
      "name": "python",
      "version": "3.7.10",
      "mimetype": "text/x-python",
      "codemirror_mode": {
        "name": "ipython",
        "version": 3
      },
      "pygments_lexer": "ipython3",
      "nbconvert_exporter": "python",
      "file_extension": ".py"
    }
  },
  "nbformat": 4,
  "nbformat_minor": 5
}